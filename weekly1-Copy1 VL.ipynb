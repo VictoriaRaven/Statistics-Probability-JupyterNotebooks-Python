{
 "cells": [
  {
   "cell_type": "markdown",
   "id": "d98d5624-b39a-4b89-a0ba-b176b0b1e40e",
   "metadata": {},
   "source": [
    "**Introduction: Simulation**\n",
    "\n",
    "One of the most powerful tools we have in understanding probability is to *simulate* an experiment many times on a computer. We can frequently run thousands or millions of trials and gather a large amount of data regarding the typical outcomes, the average behaviour or properties of a system, and more. In this notebook, you'll start to see how we can use simulation to gather some data. We'll explore a few experiments involving dice rolls."
   ]
  },
  {
   "cell_type": "markdown",
   "id": "c6f95808-0a18-42ad-80c8-69666e1cfd54",
   "metadata": {},
   "source": [
    "In this block, we'll roll a set of dice, average the rolls, and see what typical behaviour occurs. One way to \"roll a die\" numerically is to generate a random number between 0 and 1; then multiply it by 6 and round up to the next integer (we'll actually round down and add 1 because it's a bit easier to code...). Lots of things can be simulated this way, in fact! Generate a random number, choose a particular range of interest, and record a result."
   ]
  },
  {
   "cell_type": "code",
   "execution_count": 16,
   "id": "5e5a3078-f0ae-4a92-9302-6c948810cd5f",
   "metadata": {
    "tags": []
   },
   "outputs": [
    {
     "name": "stdout",
     "output_type": "stream",
     "text": [
      "[3, 2, 4, 2, 2, 2, 6, 4, 4, 5, 6, 1, 3, 3, 1, 5, 3, 1, 3, 6, 1, 2, 1, 5, 3, 3, 5, 5, 4, 6, 5, 4, 3, 4, 4, 2, 1, 1, 5, 6, 3, 3, 5, 5, 6, 4, 6, 6, 3, 2, 4, 5, 1, 5, 2, 5, 3, 4, 2, 5, 6, 1, 6, 3, 5, 2, 4, 5, 4, 6, 2, 6, 3, 4, 5, 6, 6, 2, 1, 1, 5, 6, 1, 5, 5, 2, 2, 5, 3, 6, 2, 1, 3, 5, 3, 1, 6, 2, 1, 6]\n"
     ]
    }
   ],
   "source": [
    "# Import the random number generator package \n",
    "from random import random\n",
    "\n",
    "# Roll one die with a prescribed number of sides\n",
    "def roll_die(num_sides):\n",
    "    roll = int(num_sides*random()) + 1\n",
    "    return roll\n",
    "\n",
    "# Do this for ten trials and store in a list\n",
    "rolls = []\n",
    "num_trials = 100\n",
    "\n",
    "for _ in range(num_trials):\n",
    "    rolls.append(roll_die(6))\n",
    "    \n",
    "# Print out the results\n",
    "print(rolls)"
   ]
  },
  {
   "cell_type": "markdown",
   "id": "fb937b05-fcc0-4589-82a1-c1c237e3fd21",
   "metadata": {},
   "source": [
    "This is just rolling one die ten times, so it's not particularly involved. But suppose we want to return to the first daily homework set, and figure out the probability that two dice add to $8$. We can simulate that here: "
   ]
  },
  {
   "cell_type": "code",
   "execution_count": 2,
   "id": "2877d5f7-3506-4432-8834-3b7c9727f053",
   "metadata": {
    "tags": []
   },
   "outputs": [
    {
     "name": "stdout",
     "output_type": "stream",
     "text": [
      "Sucesss: 139\n",
      "Num Trials: 1000\n",
      "Probability of adding to 8: 0.139\n"
     ]
    }
   ],
   "source": [
    "# Do 1000 trials of rolling two dice\n",
    "num_trials = 1000\n",
    "success = 0\n",
    "\n",
    "# Count the number of \"successes,\" i.e. that we get a sum of 8\n",
    "for _ in range(num_trials):\n",
    "    r1 = roll_die(6)\n",
    "    r2 = roll_die(6)\n",
    "\n",
    "    if r1 + r2 == 8:\n",
    "        success += 1\n",
    "        \n",
    "# Print the estimated probability of success: success / num_trials\n",
    "print(f'Sucesss: {success}')\n",
    "print(f'Num Trials: {num_trials}')\n",
    "print(f'Probability of adding to 8: {success / num_trials}')\n"
   ]
  },
  {
   "cell_type": "markdown",
   "id": "2916163a-3abc-4e23-9cb1-7b76a4a44044",
   "metadata": {},
   "source": [
    "Running $10000$ trials, I had $1338$ successes -- for a probability of $0.1346$. On the other hand, you found that there are $5$ possible dice rolls out of the $36$ total which have a sum of $5$ (2-6, 3-5, 4-4, 5-3, and 6-2). This leads to a probability of $5/36 \\approx 0.139$; so not a bad estimate with only ten thousand trials!\n",
    "\n",
    "Let's make one last modification where we store every outcome and compute the probabilities of each. It's helpful for this part if you know what a [set](https://www.w3schools.com/python/python_sets.asp) is in Python; it's something that pairs a key (here, the value of the sum) with a value (how many times we counted it)."
   ]
  },
  {
   "cell_type": "code",
   "execution_count": 3,
   "id": "a357e1ae-6d10-42e0-b3d6-f4128fda83c9",
   "metadata": {},
   "outputs": [
    {
     "name": "stdout",
     "output_type": "stream",
     "text": [
      "Probability of summing to 2 = 0.0277\n",
      "Probability of summing to 3 = 0.0581\n",
      "Probability of summing to 4 = 0.0868\n",
      "Probability of summing to 5 = 0.1076\n",
      "Probability of summing to 6 = 0.1415\n",
      "Probability of summing to 7 = 0.1655\n",
      "Probability of summing to 8 = 0.142\n",
      "Probability of summing to 9 = 0.1074\n",
      "Probability of summing to 10 = 0.0774\n",
      "Probability of summing to 11 = 0.0547\n",
      "Probability of summing to 12 = 0.0313\n"
     ]
    }
   ],
   "source": [
    "# Do 1000 trials again\n",
    "num_trials = 10000\n",
    "\n",
    "# An easy way to store data is to make a set in Python.\n",
    "success = {r:0 for r in range(2, 13)} \n",
    "# This is equivalent to writing {2:0, 3:0, 4:0, ..., 12:0}\n",
    "\n",
    "for _ in range(num_trials):\n",
    "    r1 = roll_die(6)\n",
    "    r2 = roll_die(6)\n",
    "\n",
    "    s = r1 + r2\n",
    "\n",
    "    # Update the count of successes\n",
    "    success[s] += 1\n",
    "\n",
    "# Now print the results in a bit of a table:\n",
    "for _ in range(2, 13):\n",
    "    print(f'Probability of summing to {_} = {success[_] / num_trials}')"
   ]
  },
  {
   "cell_type": "markdown",
   "id": "dc80ab03-8de6-4327-b6d9-cfb789a61845",
   "metadata": {},
   "source": [
    "**Questions for you**: \n",
    "\n",
    "Answer the following questions; in your submission, include any new code that you wrote or modified.\n",
    "\n",
    "1) Run a few experiments with a small number of trials (on the order of 100). Run a few experiments with a large number of trials (like 100K or more). In which case do you see more variation in the experiment results? Is that what you expected?\n",
    "\n",
    "In case 1 I see more variation in the expeirment results. In case 2 there is no differnece expect repeating similar results to\n",
    "case 1. This was not what I expected. I thought more trials would give out more variations, but it seems like all it does\n",
    "is give me duplicates of case 1. Now that I can see this with my own eyes, my thought process has changed and I will now\n",
    "expect that the variation will not change much if there is more trials. The true variation is case 1 and case 2 just repeats\n",
    "it in a longer list.\n",
    "\n",
    "-(die with a prescribed number of sides): 100 gives a shorter list, 100000 gives a longer list with repeating numbers of 100 list.\n",
    "\n",
    "-(rolling two dice)Probability of adding: 1000 gives a slightly smaller number 0.135, 200k gives a slightly larger number 0.137735.\n",
    "\n",
    "\n",
    "2) If you roll three dice instead, what is the most common sum?\n",
    "\n",
    "If I roll a three dice instead, the most common sum is 9-13. Thus, the true answer I noticed is 10 or 11.\n",
    "The code is pasted below this section for # 2. It shows the results: This tells me that the most common sums for a\n",
    "thee dice is 9, 10, 11, 12, and 13. The higher the probalility, the greate change the summ is shown. I noticed that the number that is most likely to gain a sum for a three dice is a 10 or 11. The summ of 9, 12, and 13 flunctuates as it it not always\n",
    "the same number. For 10 or 11, I notice that the probalility is similar no matter how many times I press run.\n",
    "Probability of summing to 9 = 0.1128    #flunctuates\n",
    "Probability of summing to 10 = 0.1283   #about the same\n",
    "Probability of summing to 11 = 0.124    #about the same\n",
    "Probability of summing to 12 = 0.1119   #functutates\n",
    "Probability of summing to 13 = 0.1012   #flunctuates\n",
    "\n",
    "\n",
    "\n",
    "3) Let's change the experiment: roll two dice and multiply their values instead of adding. Make a table of the probabilities for each outcome in {1, 2, ..., 36}.\n",
    "\n",
    "\n",
    "See coding below for # 3 Answer\n",
    "\n",
    "\n"
   ]
  },
  {
   "cell_type": "code",
   "execution_count": 7,
   "id": "d75e0026",
   "metadata": {},
   "outputs": [
    {
     "name": "stdout",
     "output_type": "stream",
     "text": [
      "Probability of summing to 2 = 0.0\n",
      "Probability of summing to 3 = 0.006\n",
      "Probability of summing to 4 = 0.014\n",
      "Probability of summing to 5 = 0.028\n",
      "Probability of summing to 6 = 0.052\n",
      "Probability of summing to 7 = 0.075\n",
      "Probability of summing to 8 = 0.097\n",
      "Probability of summing to 9 = 0.113\n",
      "Probability of summing to 10 = 0.115\n",
      "Probability of summing to 11 = 0.129\n",
      "Probability of summing to 12 = 0.099\n",
      "Probability of summing to 13 = 0.102\n",
      "Probability of summing to 14 = 0.075\n",
      "Probability of summing to 15 = 0.047\n",
      "Probability of summing to 16 = 0.031\n",
      "Probability of summing to 17 = 0.013\n",
      "Probability of summing to 18 = 0.004\n"
     ]
    }
   ],
   "source": [
    "#For question # 2:\n",
    "# Do 1000 trials again\n",
    "num_trials = 1000\n",
    "\n",
    "# An easy way to store data is to make a set in Python.\n",
    "success = {r:0 for r in range(2, 19)} \n",
    "# This is equivalent to writing {2:0, 3:0, 4:0, ..., 12:0}\n",
    "\n",
    "for _ in range(num_trials):\n",
    "    r1 = roll_die(6)\n",
    "    r2 = roll_die(6)\n",
    "    r3 = roll_die(6)\n",
    "\n",
    "    s = r1 + r2 + r3\n",
    "\n",
    "    # Update the count of successes\n",
    "    success[s] += 1\n",
    "\n",
    "# Now print the results in a bit of a table:\n",
    "for _ in range(2, 19):\n",
    "    print(f'Probability of summing to {_} = {success[_] / num_trials}')"
   ]
  },
  {
   "cell_type": "code",
   "execution_count": 39,
   "id": "b0c9e80c",
   "metadata": {},
   "outputs": [
    {
     "name": "stdout",
     "output_type": "stream",
     "text": [
      "Probability of Multiplying to 1 = 0.027\n",
      "Probability of Multiplying to 2 = 0.061\n",
      "Probability of Multiplying to 3 = 0.057\n",
      "Probability of Multiplying to 4 = 0.08\n",
      "Probability of Multiplying to 5 = 0.052\n",
      "Probability of Multiplying to 6 = 0.108\n",
      "Probability of Multiplying to 7 = 0.0\n",
      "Probability of Multiplying to 8 = 0.051\n",
      "Probability of Multiplying to 9 = 0.031\n",
      "Probability of Multiplying to 10 = 0.061\n",
      "Probability of Multiplying to 11 = 0.0\n",
      "Probability of Multiplying to 12 = 0.109\n",
      "Probability of Multiplying to 13 = 0.0\n",
      "Probability of Multiplying to 14 = 0.0\n",
      "Probability of Multiplying to 15 = 0.055\n",
      "Probability of Multiplying to 16 = 0.026\n",
      "Probability of Multiplying to 17 = 0.0\n",
      "Probability of Multiplying to 18 = 0.061\n",
      "Probability of Multiplying to 19 = 0.0\n",
      "Probability of Multiplying to 20 = 0.057\n",
      "Probability of Multiplying to 21 = 0.0\n",
      "Probability of Multiplying to 22 = 0.0\n",
      "Probability of Multiplying to 23 = 0.0\n",
      "Probability of Multiplying to 24 = 0.05\n",
      "Probability of Multiplying to 25 = 0.028\n",
      "Probability of Multiplying to 26 = 0.0\n",
      "Probability of Multiplying to 27 = 0.0\n",
      "Probability of Multiplying to 28 = 0.0\n",
      "Probability of Multiplying to 29 = 0.0\n",
      "Probability of Multiplying to 30 = 0.055\n",
      "Probability of Multiplying to 31 = 0.0\n",
      "Probability of Multiplying to 32 = 0.0\n",
      "Probability of Multiplying to 33 = 0.0\n",
      "Probability of Multiplying to 34 = 0.0\n",
      "Probability of Multiplying to 35 = 0.0\n",
      "Probability of Multiplying to 36 = 0.031\n",
      "\n",
      "\n",
      "Table of d*d of outcomes out of 1000 trials:\n",
      "[6, 2, 36, 18, 6, 18, 36, 6, 4, 15, 18, 4, 18, 15, 2, 18, 12, 16, 9, 25, 12, 18, 8, 30, 6, 12, 10, 4, 12, 12, 20, 10, 6, 18, 4, 6, 3, 6, 20, 15, 20, 8, 10, 8, 18, 20, 20, 4, 10, 12, 10, 16, 12, 8, 10, 2, 9, 10, 10, 18, 16, 12, 10, 20, 4, 6, 12, 18, 6, 6, 9, 24, 6, 10, 15, 10, 12, 12, 6, 20, 20, 4, 5, 2, 25, 10, 6, 5, 8, 24, 30, 3, 1, 4, 8, 5, 25, 4, 18, 20, 2, 25, 8, 24, 12, 5, 6, 12, 8, 5, 18, 3, 18, 3, 10, 4, 18, 6, 3, 12, 12, 5, 20, 18, 20, 15, 5, 9, 1, 6, 8, 4, 2, 30, 12, 18, 30, 16, 6, 30, 6, 12, 4, 24, 30, 12, 5, 20, 3, 16, 30, 10, 2, 3, 12, 15, 1, 6, 4, 24, 6, 15, 16, 24, 24, 6, 30, 6, 3, 10, 9, 12, 3, 15, 12, 24, 12, 4, 3, 6, 4, 8, 10, 6, 6, 6, 6, 5, 3, 8, 1, 36, 4, 30, 5, 6, 1, 4, 15, 12, 10, 9, 4, 36, 12, 25, 25, 18, 20, 12, 20, 15, 20, 3, 30, 24, 3, 3, 10, 6, 24, 24, 18, 1, 24, 15, 2, 10, 6, 30, 2, 20, 3, 1, 16, 2, 20, 15, 6, 2, 6, 9, 24, 3, 4, 12, 25, 10, 18, 30, 24, 12, 30, 1, 12, 12, 24, 6, 24, 15, 8, 2, 15, 6, 6, 6, 2, 24, 24, 9, 20, 9, 15, 20, 12, 15, 12, 2, 24, 6, 18, 36, 12, 6, 20, 2, 15, 6, 5, 25, 6, 12, 8, 30, 12, 2, 16, 30, 18, 4, 12, 1, 2, 10, 24, 12, 2, 30, 25, 25, 12, 4, 15, 15, 12, 24, 2, 12, 6, 25, 10, 6, 12, 5, 1, 18, 4, 4, 2, 10, 30, 18, 6, 9, 3, 25, 24, 10, 4, 5, 12, 6, 18, 18, 6, 24, 6, 1, 10, 4, 12, 4, 12, 6, 4, 3, 24, 24, 3, 15, 20, 18, 6, 4, 15, 18, 24, 2, 4, 3, 36, 2, 18, 5, 24, 16, 8, 2, 3, 6, 12, 8, 15, 5, 6, 15, 5, 10, 15, 8, 6, 25, 18, 12, 20, 12, 8, 24, 15, 2, 20, 6, 30, 5, 12, 4, 4, 18, 15, 5, 1, 5, 3, 2, 9, 8, 25, 3, 12, 4, 12, 18, 2, 2, 4, 10, 25, 15, 30, 3, 8, 30, 6, 4, 6, 8, 36, 5, 30, 5, 8, 8, 3, 18, 2, 30, 4, 6, 1, 5, 15, 15, 18, 18, 4, 12, 25, 18, 5, 12, 25, 20, 30, 18, 25, 6, 15, 36, 20, 24, 3, 5, 6, 3, 8, 12, 15, 1, 24, 6, 10, 4, 6, 8, 10, 12, 4, 20, 24, 10, 10, 8, 30, 18, 24, 10, 2, 20, 15, 16, 36, 6, 6, 10, 4, 20, 15, 4, 30, 16, 6, 1, 30, 4, 2, 30, 2, 4, 10, 4, 24, 3, 18, 4, 5, 12, 20, 12, 1, 6, 3, 12, 10, 3, 2, 8, 24, 3, 30, 4, 8, 4, 5, 12, 6, 25, 8, 8, 18, 12, 16, 8, 10, 25, 16, 30, 2, 12, 36, 4, 20, 30, 4, 18, 8, 10, 25, 6, 30, 16, 6, 6, 24, 15, 6, 10, 24, 18, 3, 3, 12, 10, 2, 12, 12, 18, 12, 5, 4, 1, 10, 5, 12, 6, 9, 6, 8, 3, 6, 15, 12, 3, 8, 6, 3, 24, 2, 3, 24, 6, 24, 18, 5, 20, 12, 3, 25, 4, 5, 15, 1, 4, 5, 12, 24, 10, 12, 8, 15, 3, 15, 6, 4, 6, 10, 4, 4, 3, 2, 24, 2, 6, 5, 30, 3, 1, 18, 8, 8, 15, 4, 4, 30, 5, 16, 1, 4, 4, 2, 2, 2, 30, 30, 6, 8, 5, 10, 3, 4, 8, 30, 36, 8, 4, 20, 20, 2, 12, 12, 10, 20, 3, 20, 18, 18, 18, 36, 4, 4, 4, 5, 20, 10, 6, 6, 20, 2, 30, 3, 12, 3, 4, 10, 6, 25, 12, 24, 20, 18, 9, 4, 10, 10, 24, 18, 6, 16, 1, 2, 30, 20, 3, 15, 12, 4, 24, 4, 24, 2, 2, 10, 5, 6, 18, 3, 30, 6, 20, 24, 4, 15, 15, 15, 16, 20, 3, 15, 15, 2, 36, 12, 25, 18, 9, 15, 3, 5, 4, 18, 8, 12, 6, 36, 5, 4, 9, 6, 6, 5, 36, 8, 3, 8, 6, 24, 1, 4, 8, 30, 4, 6, 20, 2, 1, 18, 4, 15, 12, 6, 12, 5, 30, 3, 30, 12, 3, 8, 12, 6, 12, 36, 20, 6, 30, 15, 4, 6, 12, 12, 6, 10, 9, 18, 30, 15, 1, 12, 4, 10, 25, 6, 4, 30, 8, 5, 36, 4, 1, 36, 10, 24, 18, 24, 4, 6, 12, 12, 18, 10, 6, 8, 10, 9, 18, 15, 20, 3, 18, 15, 30, 10, 3, 15, 4, 4, 24, 10, 24, 20, 12, 6, 3, 15, 2, 12, 2, 12, 15, 1, 36, 12, 20, 4, 3, 20, 8, 5, 20, 16, 9, 3, 6, 12, 6, 4, 10, 12, 3, 8, 25, 24, 6, 10, 5, 18, 4, 18, 15, 25, 5, 15, 2, 18, 12, 5, 30, 1, 20, 6, 6, 12, 8, 2, 2, 36, 4, 6, 25, 6, 4, 6, 6, 6, 15, 30, 30, 24, 12, 6, 15, 18, 10, 6, 5, 36, 24, 6, 3, 16, 24, 12, 18, 20, 5, 12, 12, 9, 15, 15, 2, 30, 12, 10, 10, 15, 16, 12, 5, 16, 6, 6, 24, 8, 5, 5, 5, 20, 12, 24, 6, 18, 25, 5, 4, 10, 6, 12, 15, 6, 16, 16, 36, 4, 4, 4, 3, 15, 8, 20, 18, 12, 10, 15, 8, 25, 9, 2, 12, 4, 3]\n",
      "\n",
      "\n",
      "Table of 36 outcomes:\n",
      "[(1, 1), (1, 2), (1, 3), (1, 4), (1, 5), (1, 6), (2, 1), (2, 2), (2, 3), (2, 4), (2, 5), (2, 6), (3, 1), (3, 2), (3, 3), (3, 4), (3, 5), (3, 6), (4, 1), (4, 2), (4, 3), (4, 4), (4, 5), (4, 6), (5, 1), (5, 2), (5, 3), (5, 4), (5, 5), (5, 6), (6, 1), (6, 2), (6, 3), (6, 4), (6, 5), (6, 6)]\n"
     ]
    }
   ],
   "source": [
    "#For question #3\n",
    "\n",
    "# modify similar code for : roll two dice and multiply \n",
    "# their values instead of adding. \n",
    "# Make a table of the probabilities for each outcome in {1, 2, ..., 36}.\n",
    "# print out tables and paste code here...\n",
    "# Do 1000 trials again\n",
    "num_trials = 1000\n",
    "\n",
    "# An easy way to store data is to make a set in Python.\n",
    "success = {r:0 for r in range(1, 37)} \n",
    "# This is equivalent to writing {2:0, 3:0, 4:0, ..., 12:0}\n",
    "\n",
    "for _ in range(num_trials):\n",
    "    r1 = roll_die(6)\n",
    "    r2 = roll_die(6)\n",
    "\n",
    "    s = r1 * r2\n",
    "\n",
    "    # Update the count of successes\n",
    "    success[s] += 1\n",
    "\n",
    "# Now print the results in a bit of a table:\n",
    "for _ in range(1, 37):\n",
    "    print(f'Probability of Multiplying to {_} = {success[_] / num_trials}')\n",
    "    \n",
    "print(f'\\n')\n",
    "\n",
    "\n",
    "#TABLE SECTION PART 1\n",
    "\n",
    "# Import the random number generator package \n",
    "from random import random\n",
    "\n",
    "# Roll one die with a prescribed number of sides\n",
    "def roll_die(num_sides):\n",
    "    roll = int(num_sides*random()) + 1\n",
    "    return roll\n",
    "\n",
    "# Do this for ten trials and store in a list\n",
    "rolls = []\n",
    "num_trials = 1000\n",
    "\n",
    "for _ in range(num_trials):\n",
    "    rolls.append(roll_die(6)*roll_die(6))\n",
    "    \n",
    "# Print out the results\n",
    "print(f'Table of d*d of outcomes out of 1000 trials:')\n",
    "print(rolls)\n",
    "\n",
    "print(f'\\n')\n",
    "print(f'Table of 36 outcomes (no multiplying):')\n",
    "#TABLE SECTION PART 2\n",
    "\n",
    "def dice_comb(k, memo={}):\n",
    "   \n",
    "    if k == 1:\n",
    "        memo[1] = [(i,) for i in range(1, 7)]\n",
    "        return memo[1]\n",
    "    elif k in memo:\n",
    "        return memo[k]  \n",
    "    else:\n",
    "        prev_res = dice_comb(k-1, memo)\n",
    "        res = []\n",
    "        for comb in prev_res:\n",
    "            for j in range(1, 7):\n",
    "                res.append(comb + (j,))\n",
    "        memo[k] = res\n",
    "        return res\n",
    "k = 2\n",
    "print(dice_comb(k))"
   ]
  },
  {
   "cell_type": "code",
   "execution_count": null,
   "id": "688b5f3c",
   "metadata": {},
   "outputs": [],
   "source": []
  }
 ],
 "metadata": {
  "kernelspec": {
   "display_name": "Python 3 (ipykernel)",
   "language": "python",
   "name": "python3"
  },
  "language_info": {
   "codemirror_mode": {
    "name": "ipython",
    "version": 3
   },
   "file_extension": ".py",
   "mimetype": "text/x-python",
   "name": "python",
   "nbconvert_exporter": "python",
   "pygments_lexer": "ipython3",
   "version": "3.7.8"
  }
 },
 "nbformat": 4,
 "nbformat_minor": 5
}
