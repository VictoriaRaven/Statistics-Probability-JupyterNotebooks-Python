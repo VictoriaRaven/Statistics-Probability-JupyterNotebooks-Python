{
 "cells": [
  {
   "cell_type": "markdown",
   "id": "df3f021f-d678-40ae-b791-5aa2aff1a4e7",
   "metadata": {},
   "source": [
    "<h2> Exploring confidence intervals </h2>\n",
    "\n",
    "This week, we're going to experiment a bit with confidence intervals and generating them from data. One of the most subtle things about confidence intervals is that they do *not* represent the probability that a parameter $\\theta$ is in a particular interval $(\\ell, u)$ -- it either is or it isn't. What *is* true is that if we generate a large number of confidence intervals at level $\\gamma$, then they should contain the parameter with probability $\\gamma$.\n",
    "\n",
    "Let's demonstrate this with our standard normal. We'll do the following as a single trial:\n",
    "* Generate $30$ normally distributed numbers from an $N(0, 1)$ distribution using `random.gauss(0, 1)`.\n",
    "* Compute the mean of these $30$ data points and then the corresponding $95\\%$ confidence interval $(\\overline{x}_{30} \\pm 1.96 / \\sqrt{30})$.\n",
    "* Count this as a success if $0$ is in the confidence interval, because $0$ is the true mean.\n",
    "\n",
    "We'll then carry out $100,000$ trials of this and see how close we came:"
   ]
  },
  {
   "cell_type": "code",
   "execution_count": 2,
   "id": "e077e9dc-0318-4452-9672-9dd8a49168a7",
   "metadata": {},
   "outputs": [
    {
     "name": "stdout",
     "output_type": "stream",
     "text": [
      "94878\n"
     ]
    }
   ],
   "source": [
    "import random\n",
    "from math import sqrt\n",
    "\n",
    "def trial():\n",
    "    # Generate 30 random data points\n",
    "    data = []\n",
    "    for _ in range(30):\n",
    "        data.append(random.gauss())\n",
    "\n",
    "    # Compute the sample mean\n",
    "    mean = sum(data) / 30\n",
    "\n",
    "    # Check if 0 is in the confidence interval\n",
    "    # Return 1 if true, 0 if false\n",
    "    w = 1.960 / sqrt(30)\n",
    "    if mean - w < 0 < mean + w:\n",
    "        return 1\n",
    "    else:\n",
    "        return 0\n",
    "\n",
    "# Run this 100K times and count the successes\n",
    "count = 0\n",
    "for _ in range(100000):\n",
    "    count += trial()\n",
    "\n",
    "print(count)"
   ]
  },
  {
   "cell_type": "markdown",
   "id": "398070bd-26c9-4f90-b89c-885fc7604801",
   "metadata": {},
   "source": [
    "On my first trial of this, I got $94,878$ successful confidence intervals out of $100,000$ trials. This is extremely close to the $95\\%$ estimate! \n",
    "\n",
    "<h3> Questions </h3>\n",
    "\n",
    "* Let's take the mean of $10$ data points. Construct the $90\\%$ confidence interval and experimentally verify that it's correct.\n",
    "* Returning to a mean of $10$ data points: replace the $95\\%$ confidence interval $(\\overline{x}_{10} \\pm 1.96 \\cdot 1 / \\sqrt{30})$ with $(\\overline{x}_{10} \\pm 1.96 \\cdot S_{10} / \\sqrt{10})$ where $S_{10}$ is the sample standard deviation. Estimate the corresponding confidence level; is it higher or lower than $95\\%$? Does this match your expectation?\n",
    "* Adapting your code from the previous part, estimate a value of $t$ so that $(\\overline{x}_{10} \\pm t \\cdot S_{10} / \\sqrt{10})$ is a $98\\%$ confidence interval for the mean. (What you've estimated is the critical $t_{9, 0.01}$ from Table B.2!).\n",
    "\n",
    "\n",
    "To get you started, some code to generate the sample standard deviation is below:"
   ]
  },
  {
   "cell_type": "code",
   "execution_count": 19,
   "id": "346ababf-8371-4fe9-9375-780f76e0c8d8",
   "metadata": {},
   "outputs": [],
   "source": [
    "def sample_sd(data):\n",
    "    # Return the sample standard deviation of the data\n",
    "    # passed as a list / array\n",
    "    N = len(data)\n",
    "    mean = sum(data) / N\n",
    "\n",
    "    return sqrt(sum([(d - mean)**2 for d in data]) / (N - 1))"
   ]
  },
  {
   "cell_type": "code",
   "execution_count": null,
   "id": "fb27a4b5",
   "metadata": {},
   "outputs": [],
   "source": [
    "#answer questions:\n",
    "#1:see code. it is correct\n",
    "#2:it is lower than 95% yes it matches my expectiation when using std deviation\n",
    "#3: see code"
   ]
  },
  {
   "cell_type": "code",
   "execution_count": 1,
   "id": "b8c7e1d8",
   "metadata": {},
   "outputs": [
    {
     "name": "stdout",
     "output_type": "stream",
     "text": [
      "90026\n"
     ]
    }
   ],
   "source": [
    "#90 confidence leevl version 1\n",
    "import random\n",
    "from math import sqrt\n",
    "\n",
    "def trial():\n",
    "    data = []\n",
    "    for _ in range(10):\n",
    "        data.append(random.gauss(0, 1))\n",
    "\n",
    "    mean = sum(data) / 10\n",
    "\n",
    "    sample_std = sample_sd(data)\n",
    "\n",
    "    t = 1.833  # Critical t-value for a 90% confidence interval with 9 degrees of freedom (N-1)\n",
    "\n",
    "    # Construct the confidence interval\n",
    "    lower_bound = mean - t * sample_std / sqrt(10)\n",
    "    upper_bound = mean + t * sample_std / sqrt(10)\n",
    "\n",
    "    # Check if 0 is in the confidence interval\n",
    "    return 1 if lower_bound < 0 < upper_bound else 0\n",
    "\n",
    "def sample_sd(data):\n",
    "    N = len(data)\n",
    "    mean = sum(data) / N\n",
    "    return sqrt(sum([(d - mean)**2 for d in data]) / (N - 1))\n",
    "\n",
    "count = 0\n",
    "for _ in range(100000):\n",
    "    count += trial()\n",
    "\n",
    "print(count)\n"
   ]
  },
  {
   "cell_type": "code",
   "execution_count": 2,
   "id": "b64e47ff",
   "metadata": {},
   "outputs": [
    {
     "name": "stdout",
     "output_type": "stream",
     "text": [
      "90035\n"
     ]
    }
   ],
   "source": [
    "#90 confidence level version 2\n",
    "import random\n",
    "from math import sqrt\n",
    "\n",
    "def trial():\n",
    "    data = []\n",
    "    for _ in range(10):\n",
    "        data.append(random.gauss(0, 1))\n",
    "\n",
    "    mean = sum(data) / 10\n",
    "\n",
    "    sample_std = sample_sd(data)\n",
    "\n",
    "    t = 1.833  # Critical t-value for a 90% confidence interval with 9 degrees of freedom (N-1)\n",
    "\n",
    "    # Construct the confidence interval\n",
    "    lower_bound = mean - t * sample_std / sqrt(10)\n",
    "    upper_bound = mean + t * sample_std / sqrt(10)\n",
    "\n",
    "    # Check if 0 is in the confidence interval\n",
    "    return 1 if lower_bound < 0 < upper_bound else 0\n",
    "\n",
    "def sample_sd(data):\n",
    "    N = len(data)\n",
    "    mean = sum(data) / N\n",
    "    return sqrt(sum([(d - mean)**2 for d in data]) / (N - 1))\n",
    "\n",
    "count = 0\n",
    "for _ in range(100000):\n",
    "    count += trial()\n",
    "\n",
    "print(count)\n"
   ]
  },
  {
   "cell_type": "code",
   "execution_count": 2,
   "id": "c4bba4fe",
   "metadata": {},
   "outputs": [
    {
     "name": "stdout",
     "output_type": "stream",
     "text": [
      "91945\n"
     ]
    }
   ],
   "source": [
    "#95 confidence level version 1\n",
    "import random\n",
    "from math import sqrt\n",
    "\n",
    "def trial():\n",
    "    data = []\n",
    "    for _ in range(10):\n",
    "        data.append(random.gauss(0, 1))\n",
    "\n",
    "    mean = sum(data) / 10\n",
    "\n",
    "    sample_std = sample_sd(data)\n",
    "\n",
    "    t = 1.960  # Critical t-value for a 95% confidence interval with 9 degrees of freedom (N-1)\n",
    "\n",
    "    # Construct the confidence interval\n",
    "    lower_bound = mean - t * sample_std / sqrt(10)\n",
    "    upper_bound = mean + t * sample_std / sqrt(10)\n",
    "\n",
    "    # Check if 0 is in the confidence interval\n",
    "    return 1 if lower_bound < 0 < upper_bound else 0\n",
    "\n",
    "def sample_sd(data):\n",
    "    N = len(data)\n",
    "    mean = sum(data) / N\n",
    "    return sqrt(sum([(d - mean)**2 for d in data]) / (N - 1))\n",
    "\n",
    "count = 0\n",
    "for _ in range(100000):\n",
    "    count += trial()\n",
    "\n",
    "print(count)\n"
   ]
  },
  {
   "cell_type": "code",
   "execution_count": 3,
   "id": "7fed096c",
   "metadata": {},
   "outputs": [
    {
     "name": "stdout",
     "output_type": "stream",
     "text": [
      "91719\n"
     ]
    }
   ],
   "source": [
    "#95 confidence leevl\n",
    "import random\n",
    "from math import sqrt\n",
    "\n",
    "def trial():\n",
    "    data = []\n",
    "    for _ in range(10):\n",
    "        data.append(random.gauss(0, 1))\n",
    "\n",
    "    mean = sum(data) / 10\n",
    "\n",
    "    sample_std = sample_sd(data)\n",
    "\n",
    "    t = 1.960  # Critical t-value for a 95% confidence interval with 9 degrees of freedom (N-1)\n",
    "\n",
    "    # Construct the confidence interval\n",
    "    lower_bound = mean - t * sample_std / sqrt(10)\n",
    "    upper_bound = mean + t * sample_std / sqrt(10)\n",
    "\n",
    "    # Check if 0 is in the confidence interval\n",
    "    return 1 if lower_bound < 0 < upper_bound else 0\n",
    "\n",
    "def sample_sd(data):\n",
    "    N = len(data)\n",
    "    mean = sum(data) / N\n",
    "    return sqrt(sum([(d - mean)**2 for d in data]) / (N - 1))\n",
    "\n",
    "count = 0\n",
    "for _ in range(100000):\n",
    "    count += trial()\n",
    "\n",
    "print(count)\n"
   ]
  },
  {
   "cell_type": "code",
   "execution_count": 7,
   "id": "95a98f96",
   "metadata": {},
   "outputs": [
    {
     "name": "stdout",
     "output_type": "stream",
     "text": [
      "Estimated Confidence Level: 91.79%\n",
      "The estimated confidence level is lower than 95%.\n"
     ]
    }
   ],
   "source": [
    "import random\n",
    "from scipy import stats\n",
    "from math import sqrt\n",
    "\n",
    "def trial():\n",
    "    data = []\n",
    "    for _ in range(10):\n",
    "        data.append(random.gauss(0, 1))\n",
    "\n",
    "    mean = sum(data) / 10\n",
    "\n",
    "    sample_std = sample_sd(data)\n",
    "\n",
    "    # Calculate the confidence interval based on the sample standard deviation\n",
    "    lower_bound = mean - 1.96 * sample_std / sqrt(10)\n",
    "    upper_bound = mean + 1.96 * sample_std / sqrt(10)\n",
    "\n",
    "    # Check if 0 is in the confidence interval\n",
    "    return 1 if lower_bound < 0 < upper_bound else 0\n",
    "\n",
    "def sample_sd(data):\n",
    "    N = len(data)\n",
    "    mean = sum(data) / N\n",
    "    return sqrt(sum([(d - mean)**2 for d in data]) / (N - 1))\n",
    "\n",
    "count = 0\n",
    "for _ in range(100000):\n",
    "    count += trial()\n",
    "\n",
    "# Calculate the estimated confidence level\n",
    "estimated_confidence_level = count / 100000\n",
    "print(f\"Estimated Confidence Level: {estimated_confidence_level * 100}%\")\n",
    "\n",
    "# Check if the estimated confidence level is higher or lower than 95%\n",
    "if estimated_confidence_level > 0.95:\n",
    "    print(\"The estimated confidence level is higher than 95%.\")\n",
    "elif estimated_confidence_level < 0.95:\n",
    "    print(\"The estimated confidence level is lower than 95%.\")\n",
    "else:\n",
    "    print(\"The estimated confidence level is approximately equal to 95%.\")\n"
   ]
  },
  {
   "cell_type": "code",
   "execution_count": 6,
   "id": "9ea4b9fa",
   "metadata": {},
   "outputs": [
    {
     "name": "stdout",
     "output_type": "stream",
     "text": [
      "89919\n"
     ]
    }
   ],
   "source": [
    "import random\n",
    "from scipy import stats\n",
    "\n",
    "def trial():\n",
    "    data = []\n",
    "    for _ in range(10):\n",
    "        data.append(random.gauss(0, 1))\n",
    "\n",
    "    mean = sum(data) / 10\n",
    "\n",
    "    sample_std = sample_sd(data)\n",
    "\n",
    "    t = stats.t.ppf(0.95, df=9)  # Critical t-value for a 90% confidence interval with 9 degrees of freedom\n",
    "\n",
    "    # Construct the confidence interval\n",
    "    lower_bound = mean - t * sample_std / sqrt(10)\n",
    "    upper_bound = mean + t * sample_std / sqrt(10)\n",
    "\n",
    "    # Check if 0 is in the confidence interval\n",
    "    return 1 if lower_bound < 0 < upper_bound else 0\n",
    "\n",
    "def sample_sd(data):\n",
    "    N = len(data)\n",
    "    mean = sum(data) / N\n",
    "    return sqrt(sum([(d - mean)**2 for d in data]) / (N - 1))\n",
    "\n",
    "count = 0\n",
    "for _ in range(100000):\n",
    "    count += trial()\n",
    "\n",
    "print(count)\n"
   ]
  },
  {
   "cell_type": "code",
   "execution_count": 5,
   "id": "a279a506",
   "metadata": {},
   "outputs": [
    {
     "name": "stdout",
     "output_type": "stream",
     "text": [
      "94972\n"
     ]
    }
   ],
   "source": [
    "import random\n",
    "from scipy import stats\n",
    "\n",
    "def trial():\n",
    "    data = []\n",
    "    for _ in range(10):\n",
    "        data.append(random.gauss(0, 1))\n",
    "\n",
    "    mean = sum(data) / 10\n",
    "\n",
    "    sample_std = sample_sd(data)\n",
    "\n",
    "    t = stats.t.ppf(0.975, df=9)  # Critical t-value for a 95% confidence interval with 9 degrees of freedom\n",
    "\n",
    "    # Construct the confidence interval\n",
    "    lower_bound = mean - t * sample_std / sqrt(10)\n",
    "    upper_bound = mean + t * sample_std / sqrt(10)\n",
    "\n",
    "    # Check if 0 is in the confidence interval\n",
    "    return 1 if lower_bound < 0 < upper_bound else 0\n",
    "\n",
    "def sample_sd(data):\n",
    "    N = len(data)\n",
    "    mean = sum(data) / N\n",
    "    return sqrt(sum([(d - mean)**2 for d in data]) / (N - 1))\n",
    "\n",
    "count = 0\n",
    "for _ in range(100000):\n",
    "    count += trial()\n",
    "\n",
    "print(count)\n"
   ]
  },
  {
   "cell_type": "code",
   "execution_count": 3,
   "id": "2a2170e9",
   "metadata": {},
   "outputs": [
    {
     "name": "stdout",
     "output_type": "stream",
     "text": [
      "97945\n"
     ]
    }
   ],
   "source": [
    "#98 confidence leevl\n",
    "import random\n",
    "from math import sqrt\n",
    "\n",
    "def trial():\n",
    "    data = []\n",
    "    for _ in range(10):\n",
    "        data.append(random.gauss(0, 1))\n",
    "\n",
    "    mean = sum(data) / 10\n",
    "\n",
    "    sample_std = sample_sd(data)\n",
    "\n",
    "    t = 2.821  # Estimated critical t-value for a 98% confidence interval with 9 degrees of freedom (N-1)\n",
    "\n",
    "    # Construct the confidence interval\n",
    "    lower_bound = mean - t * sample_std / sqrt(10)\n",
    "    upper_bound = mean + t * sample_std / sqrt(10)\n",
    "\n",
    "    # Check if 0 is in the confidence interval\n",
    "    return 1 if lower_bound < 0 < upper_bound else 0\n",
    "\n",
    "def sample_sd(data):\n",
    "    N = len(data)\n",
    "    mean = sum(data) / N\n",
    "    return sqrt(sum([(d - mean)**2 for d in data]) / (N - 1))\n",
    "\n",
    "count = 0\n",
    "for _ in range(100000):\n",
    "    count += trial()\n",
    "\n",
    "print(count)\n"
   ]
  },
  {
   "cell_type": "code",
   "execution_count": 6,
   "id": "8d6693e6",
   "metadata": {},
   "outputs": [
    {
     "name": "stdout",
     "output_type": "stream",
     "text": [
      "Critical t-value for 98.0% confidence: 0.001\n"
     ]
    }
   ],
   "source": [
    "#98 confidence leevl\n",
    "from math import sqrt\n",
    "\n",
    "def sample_sd(data):\n",
    "    N = len(data)\n",
    "    mean = sum(data) / N\n",
    "    return sqrt(sum([(d - mean)**2 for d in data]) / (N - 1))\n",
    "\n",
    "# Define your sample data here (replace with your actual data)\n",
    "data = [1.2, 2.3, 1.8, 1.5, 2.7, 3.0, 1.6, 2.2, 2.8, 1.9]\n",
    "\n",
    "def find_critical_t(data, confidence_level):\n",
    "    N = len(data)\n",
    "    sample_std = sample_sd(data)\n",
    "    \n",
    "    for t in range(1, 1000):  # You can adjust the range as needed\n",
    "        t_value = t / 1000.0  # Convert to decimal\n",
    "        mean = sum(data) / N\n",
    "        lower_bound = mean - t_value * sample_std / sqrt(N)\n",
    "        upper_bound = mean + t_value * sample_std / sqrt(N)\n",
    "        \n",
    "        # Check if the confidence level is close to the desired level\n",
    "        if (1 - (upper_bound - lower_bound)) >= confidence_level:\n",
    "            return t_value\n",
    "\n",
    "confidence_level = 0.98\n",
    "critical_t = find_critical_t(data, confidence_level)\n",
    "print(f\"Critical t-value for {confidence_level*100}% confidence: {critical_t}\")\n"
   ]
  },
  {
   "cell_type": "code",
   "execution_count": 4,
   "id": "d08061fe",
   "metadata": {},
   "outputs": [
    {
     "name": "stdout",
     "output_type": "stream",
     "text": [
      "Critical t-value for 98.0% confidence: 2.8214379233005493\n"
     ]
    }
   ],
   "source": [
    "from scipy import stats\n",
    "\n",
    "confidence_level = 0.98\n",
    "t = stats.t.ppf((1 + confidence_level) / 2, df=9)  # Critical t-value for a 98% confidence interval with 9 degrees of freedom\n",
    "print(f\"Critical t-value for {confidence_level*100}% confidence: {t}\")\n"
   ]
  },
  {
   "cell_type": "code",
   "execution_count": null,
   "id": "84d1ddd8",
   "metadata": {},
   "outputs": [],
   "source": []
  }
 ],
 "metadata": {
  "kernelspec": {
   "display_name": "Python 3 (ipykernel)",
   "language": "python",
   "name": "python3"
  },
  "language_info": {
   "codemirror_mode": {
    "name": "ipython",
    "version": 3
   },
   "file_extension": ".py",
   "mimetype": "text/x-python",
   "name": "python",
   "nbconvert_exporter": "python",
   "pygments_lexer": "ipython3",
   "version": "3.11.4"
  }
 },
 "nbformat": 4,
 "nbformat_minor": 5
}
