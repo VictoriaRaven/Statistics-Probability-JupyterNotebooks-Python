{
 "cells": [
  {
   "cell_type": "markdown",
   "id": "df3f021f-d678-40ae-b791-5aa2aff1a4e7",
   "metadata": {},
   "source": [
    "<h2> Exploring estimators </h2>\n",
    "\n",
    "In this week's notebook, we're going to explore various estimators, their biases, and their efficiencies. \n",
    "\n",
    "<h4> An estimator for an exponential parameter </h4>\n",
    "\n",
    "Let's draw a dataset from an exponential distribution $\\operatorname{Exp}(\\lambda)$, which has mean $1/\\lambda$. We know that if we build a dataset $\\{x_1, x_2, ..., x_n\\}$ by sampling from this distribution, then the sample mean is an unbiased estimator for $1/\\lambda$. On your homework, you found that\n",
    "$$T_n = \\frac{n}{x_1 + x_2 + \\cdots + x_n}$$\n",
    "is *not* an unbiased estimator for $\\lambda$; for example, $E[T_1] = \\infty$. On the other hand, an easy-to-compute biased estimator with low variance is sometimes preferable to a hard-to-compute unbiased estimator with high variance. We'll explore what happens as $n \\to \\infty$ in the **following questions**:\n",
    "\n",
    "* Suppose that $\\lambda = 0.5$ and that $n = 2$. Make an estimate for $E[T_2]$ using an appropriate number of simulations. As an estimator for $\\lambda$, is it biased positively or negatively?\n",
    "* Repeat the previous part with $n = 10$ and $n = 100$. Can you make a conjecture for the behavior of $E[T_n]$ as $n \\to \\infty$?\n",
    "\n",
    "<h4> Quantifying efficiency of an estimator </h4>\n",
    "\n",
    "Suppose that we know data is drawn from a uniform distribution $\\operatorname{Unif}(-\\theta, \\theta)$, where $\\theta$ is unknown. At this point, we have three different estimators for $\\theta$; they are\n",
    "\n",
    "* $A = 3 X_1^2,$ which is unbiased,\n",
    "* $B = 2 X_1$, which is unbiased (from the homework!), and\n",
    "* $C = \\max\\{X_1, X_2, ..., X_n\\}$, which has expectation $\\frac{n}{n + 1} \\theta$ (from the homework!).\n",
    "\n",
    "One tool for quantifying how \"good\" an estimator is the *mean squared error*, or MSE. It's defined as the mean of the squared error:\n",
    "$$MSE(T) = E[(T - \\theta)^2].$$ \n",
    "For an unbiased estimator, this is exactly the variance of $T$ itself; naturally, this means that smaller values are generally better. We'll explore the MSE for each of the three estiamtors for $\\theta$ in the **following questions**:\n",
    "\n",
    "* Suppose that you know $\\theta = 1$. Estimate the MSE of $A$ using an appropriate number of trials.\n",
    "* Estimate the MSE of $B$ under the same conditions.\n",
    "* Estimate the MSE of $C$ using $n = 1$, $n = 10$, and $n = 100$. Make a conjecture for what happens as $n \\to \\infty$."
   ]
  },
  {
   "cell_type": "code",
   "execution_count": 82,
   "id": "e077e9dc-0318-4452-9672-9dd8a49168a7",
   "metadata": {},
   "outputs": [],
   "source": [
    "# To get you started: here's the exponential distribution again:\n",
    "from random import random\n",
    "from math import log\n",
    "\n",
    "def Exp(lamb):\n",
    "    return -log(random()) / lamb\n"
   ]
  },
  {
   "cell_type": "code",
   "execution_count": 12,
   "id": "6239feb0-317b-4fe1-a2d7-e42eb2923613",
   "metadata": {},
   "outputs": [],
   "source": [
    "#Anwers to questions here and code is below...\n",
    "#T2:\n",
    "#When n = 2, T2 is given by T2 = 2 / (X1 + X2), where X1 and X2 are two independent exponential random variables with parameter A = 0.5.\n",
    "#The expected value of T2 is E[T2] = 2 / (E[X1] + E[X2]), where E[X1] and E[X2] are the expected values of X1 and X2.\n",
    "#For the exponential distribution, E[X] = 1 / A. So, E[X1] = E[X2] = 1 / 0.5 = 2.\n",
    "#Therefore, E[T2] = 2 / (2 + 2) = 2 / 4 = 0.5.\n",
    "#If the expected value of the estimator is equal to the true parameter value, it is an unbiased estimator. \n",
    "#In this case, for n = 2, E[T2] is equal to the true parameter A (0.5), so the estimator T2 is unbiased.\n",
    "#E[Tn] as n → ∞, A conjecture about the behavior of E[Tn] using law of large numbers.\n",
    "#The law states that as the sample size increases, the sample mean converges to the true population mean.\n",
    "# for the exponential distribution with parameter A = 0.5 and n → ∞:\n",
    "#Law of Large Numbers:\n",
    "#As n approaches infinity, the sample mean approaches 1/A = 1/(0.5) = 2\n",
    "#As n becomes very large, and the estimator Tn becomes unbiased.\n",
    "#So, as n → ∞, conjecture that E[Tn] converges to the true parameter value A = 0.5, estimator unbiased.\n",
    "\n",
    "#To make a conjecture for the behavior of the MSE as n → ∞ for Estimator C( and A or B):\n",
    "#Estimator C = max{X1, X2, ..., Xn}.\n",
    "#Estimator C is a non-linear function that takes the maximum of n samples.\n",
    "#As n increases, the maximum value is likely to approach the true maximum value in the distribution.\n",
    "#The bias of Estimator C is likely to decrease as n increases, as it approximates the true maximum value better.\n",
    "#Smaller bias generally leads to a decrease in MSE for unbiased estimators as n increases.\n",
    "#Therefore, you can conjecture that as n → ∞, the MSE for Estimator C is likely to decrease and approach zero. Same applies to B and A."
   ]
  },
  {
   "cell_type": "code",
   "execution_count": 6,
   "id": "96d7999e-b987-4f98-974f-6c5517e8e60d",
   "metadata": {},
   "outputs": [
    {
     "name": "stdout",
     "output_type": "stream",
     "text": [
      "E[T2] estimate: 0.9772121744216277\n"
     ]
    }
   ],
   "source": [
    "from random import random\n",
    "from math import log\n",
    "\n",
    "def Exp(lamb):\n",
    "    return -log(random()) / lamb\n",
    "\n",
    "n = 2  # Number of exponential random variables to sum\n",
    "A = 0.5  # Parameter for the exponential distribution\n",
    "num_simulations = 1000\n",
    "total = 0\n",
    "\n",
    "for _ in range(num_simulations):\n",
    "    y_total = 0\n",
    "    for i in range(n):\n",
    "        y = Exp(A)\n",
    "        y_total += y\n",
    "\n",
    "    T_n = n / y_total\n",
    "    total += T_n\n",
    "\n",
    "mean = total / num_simulations\n",
    "print(\"E[T2] estimate:\", mean)\n"
   ]
  },
  {
   "cell_type": "code",
   "execution_count": 9,
   "id": "8cdc7ccc-047e-42d2-8ba8-dd190927fb86",
   "metadata": {},
   "outputs": [
    {
     "name": "stdout",
     "output_type": "stream",
     "text": [
      "E[T2] estimate with 1 simulations: 0.43742752366261317\n",
      "E[T2] estimate with 10 simulations: 0.6916104469428148\n",
      "E[T2] estimate with 100 simulations: 1.0284968089843567\n"
     ]
    }
   ],
   "source": [
    "from random import random\n",
    "from math import log\n",
    "\n",
    "def Exp(lamb):\n",
    "    return -log(random()) / lamb\n",
    "\n",
    "A = 0.5  # Parameter for the exponential distribution\n",
    "n = 2  # Number of exponential random variables to sum\n",
    "num_simulations = [1, 10, 100]  # Vary the number of simulations\n",
    "\n",
    "for num_sim in num_simulations:\n",
    "    total = 0\n",
    "\n",
    "    for _ in range(num_sim):\n",
    "        y_total = 0\n",
    "        for i in range(n):\n",
    "            y = Exp(A)\n",
    "            y_total += y\n",
    "\n",
    "        T_n = n / y_total\n",
    "        total += T_n\n",
    "\n",
    "    mean = total / num_sim\n",
    "    print(f'E[T2] estimate with {num_sim} simulations:', mean)\n"
   ]
  },
  {
   "cell_type": "code",
   "execution_count": 7,
   "id": "a591d3ac-7873-456b-81c7-afaff6c9fc35",
   "metadata": {},
   "outputs": [
    {
     "name": "stdout",
     "output_type": "stream",
     "text": [
      "MSE for Estimator A: 0.6139321071568131\n",
      "MSE for Estimator B: 1.3678617151635195\n"
     ]
    }
   ],
   "source": [
    "def simulate_uniform():\n",
    "    return -0.5 + random()\n",
    "\n",
    "n = 1000  # Number of trials\n",
    "true_value = 1  # True value of theta\n",
    "\n",
    "# Estimator A = 3 * X^2\n",
    "mse_A = 0\n",
    "for _ in range(n):\n",
    "    X = simulate_uniform()\n",
    "    estimator_A = 3 * X**2\n",
    "    mse_A += (estimator_A - true_value)**2\n",
    "\n",
    "mse_A /= n\n",
    "\n",
    "# Estimator B = 2 * X\n",
    "mse_B = 0\n",
    "for _ in range(n):\n",
    "    X = simulate_uniform()\n",
    "    estimator_B = 2 * X\n",
    "    mse_B += (estimator_B - true_value)**2\n",
    "\n",
    "mse_B /= n\n",
    "\n",
    "print(\"MSE for Estimator A:\", mse_A)\n",
    "print(\"MSE for Estimator B:\", mse_B)\n"
   ]
  },
  {
   "cell_type": "code",
   "execution_count": 8,
   "id": "ce04bd58-a0c1-4c47-9e6b-80cb6457b1ea",
   "metadata": {},
   "outputs": [
    {
     "name": "stdout",
     "output_type": "stream",
     "text": [
      "MSE for Estimator C: 0.35319454653365734\n"
     ]
    }
   ],
   "source": [
    "from random import random\n",
    "\n",
    "def simulate_uniform():\n",
    "    return -0.5 + random()\n",
    "\n",
    "def estimator_C(sample):\n",
    "    return max(sample)\n",
    "\n",
    "n = 1000  # Number of trials\n",
    "true_value = 1  # True value of theta\n",
    "num_samples = 10  # Number of samples for Estimator C\n",
    "\n",
    "mse_C = 0\n",
    "\n",
    "for _ in range(n):\n",
    "    samples = [simulate_uniform() for _ in range(num_samples)]\n",
    "    estimator_C_value = estimator_C(samples)\n",
    "    mse_C += (estimator_C_value - true_value)**2\n",
    "\n",
    "mse_C /= n\n",
    "\n",
    "print(\"MSE for Estimator C:\", mse_C)\n"
   ]
  },
  {
   "cell_type": "code",
   "execution_count": 13,
   "id": "d5ceecf6-7ee6-4341-9f98-ff4c1a1a44bb",
   "metadata": {},
   "outputs": [
    {
     "name": "stdout",
     "output_type": "stream",
     "text": [
      "MSE for Unbiased Estimator (1/n): 96.02097989805965\n",
      "MSE for Unbiased Estimator (1/n + 1): 95.98159911624448\n",
      "MSE for Biased Estimator (1/(n+1)): 0.04769239512697997\n"
     ]
    }
   ],
   "source": [
    "import random\n",
    "import numpy as np\n",
    "\n",
    "def Uniform(theta, n):\n",
    "    return [random.uniform(0, theta) for _ in range(n)]\n",
    "#  (1/n)\n",
    "def estimate_unbiased_1n(samples):\n",
    "    return 1 / np.mean(samples)\n",
    "# (1/n + 1)\n",
    "def estimate_unbiased_1n1(samples):\n",
    "    return (n + 1) / np.sum(samples)\n",
    "# (1/(n+1))\n",
    "def estimate_biased_1n1(samples):\n",
    "    return n / (n + 1) * np.max(samples)\n",
    "# Nmber of trials\n",
    "num_simulations = 1000\n",
    "true_theta = 10\n",
    "# Sample size\n",
    "n = 100\n",
    "# Lists to store MSE values for each estimator\n",
    "mse_unbiased_1n = []\n",
    "mse_unbiased_1n1 = []\n",
    "mse_biased_1n1 = []\n",
    "for _ in range(num_simulations):\n",
    "    uniform_samples = Uniform(true_theta, n)\n",
    "    \n",
    "    # Estimate\n",
    "    theta_hat_unbiased_1n = estimate_unbiased_1n(uniform_samples)\n",
    "    theta_hat_unbiased_1n1 = estimate_unbiased_1n1(uniform_samples)\n",
    "    theta_hat_biased_1n1 = estimate_biased_1n1(uniform_samples)\n",
    "    \n",
    "    # Calculate squared errors\n",
    "    se_unbiased_1n = (theta_hat_unbiased_1n - true_theta)**2\n",
    "    se_unbiased_1n1 = (theta_hat_unbiased_1n1 - true_theta)**2\n",
    "    se_biased_1n1 = (theta_hat_biased_1n1 - true_theta)**2\n",
    "    \n",
    "    mse_unbiased_1n.append(se_unbiased_1n)\n",
    "    mse_unbiased_1n1.append(se_unbiased_1n1)\n",
    "    mse_biased_1n1.append(se_biased_1n1)\n",
    "# Calculate the mean squared error\n",
    "mse_mean_unbiased_1n = np.mean(mse_unbiased_1n)\n",
    "mse_mean_unbiased_1n1 = np.mean(mse_unbiased_1n1)\n",
    "mse_mean_biased_1n1 = np.mean(mse_biased_1n1)\n",
    "print(\"MSE for Unbiased Estimator (1/n):\", mse_mean_unbiased_1n)\n",
    "print(\"MSE for Unbiased Estimator (1/n + 1):\", mse_mean_unbiased_1n1)\n",
    "print(\"MSE for Biased Estimator (1/(n+1)):\", mse_mean_biased_1n1)\n"
   ]
  },
  {
   "cell_type": "code",
   "execution_count": null,
   "id": "cd7a85cd-096c-4f01-a30f-116a8d065e70",
   "metadata": {},
   "outputs": [],
   "source": []
  }
 ],
 "metadata": {
  "kernelspec": {
   "display_name": "Python 3 (ipykernel)",
   "language": "python",
   "name": "python3"
  },
  "language_info": {
   "codemirror_mode": {
    "name": "ipython",
    "version": 3
   },
   "file_extension": ".py",
   "mimetype": "text/x-python",
   "name": "python",
   "nbconvert_exporter": "python",
   "pygments_lexer": "ipython3",
   "version": "3.11.4"
  }
 },
 "nbformat": 4,
 "nbformat_minor": 5
}
