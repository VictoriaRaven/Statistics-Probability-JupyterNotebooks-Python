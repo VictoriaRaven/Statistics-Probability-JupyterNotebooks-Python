{
 "cells": [
  {
   "cell_type": "markdown",
   "id": "35075e8a-b4f4-4393-b9d1-7b4fd4366fd3",
   "metadata": {},
   "source": [
    "<h2> Exploring the Central Limit Theorem </h2>\n",
    "\n",
    "In this notebook, we're going to explore the central limit theorem. The theorem says that as $N \\to \\infty$, an appropriately scaled average of $N$ IID random variables will converge to a normal distribution. A natural question that comes up is how large $N$ should be in order to use the central limit theorem accurately and efficiently: if $N$ is too small, then the limit is a bad approximation and if $N$ is too large, we require too much data to be practical.\n",
    "\n",
    "From Thursday's class, we did an example where we averaged 30 exponential random variables with distribution $\\operatorname{Exp}(1/10)$, and approximated the average as $\\operatorname{N(10, 100/30)}.$ We can also directly simulate the sum of $30$ exponential random variables (we've implemented `Exp` in previous notebooks, and in last week's notebook you took the average of a bunch of random variables!) and compare the estimates for $P(\\overline{X}_{30} > 14)$. The central limit theorem estimate for the probability is about $1.4\\%$, while the simulated sum of $30$ exponential variables is around $2.2\\%$ (using $10^6$ trials). \n",
    "\n",
    "Although these numbers are on the same scale (each representing a fairly unlikely outcome that's not too extreme), they are still off by nearly $60\\%$. This is because $30$ is a small number of trials, and the central limit theorem improves as we take a larger number of trials.\n",
    "\n",
    "<h3> This week's problems </h3>\n",
    "\n",
    "You'll explore some of these probabilities and see how the estimates improve as $N$ increases; this will give you a feel for when the CLT is actually applicable in practice. \n",
    "\n",
    "* Verify the numbers above, that the probability that a sum of $30$ IID $\\operatorname{Exp}(1/10)$ random variables will have probability around $0.022$ of being $\\ge 14$.\n",
    "\n",
    "* For a sum of $100$ IID $\\operatorname{Exp}(1/10)$ random variables, simulate the probability that the average is $\\ge 11$ and $\\le 9$. Compare this to the results of the central limit theorem; is there better agreement than with $30$ random variables?\n",
    "\n",
    "* For a sum of $10$ IID $\\operatorname{Unif(-1, 1)}$ random variables, simulate the probability that the **sum** is $\\ge 1$, $\\ge 2$, and $\\ge 5$. Compare this to the results of the central limit theorem.\n",
    "\n",
    "* Repeat the previous part but for $20, 30, 100,$ and $500$ IID $\\operatorname{Unif}(-1, 1)$ random variables, and compare to the CLT. For which values of $N$ do you think it's reasonable to estimate with the CLT?\n",
    "\n",
    "To help get you started, the following code implements the z-score calculation. You can also look at recent notebooks to find code that implements a running sum of samples and code that implements the uniform distribution. One useful trick to remember is that if $R$ is a $\\operatorname{Unif}(0, 1)$ random variable, then $2R - 1$ has a $\\operatorname{Unif}(-1, 1)$ distribution."
   ]
  },
  {
   "cell_type": "code",
   "execution_count": 8,
   "id": "177d83c5-74f9-4391-b26e-996598c3232d",
   "metadata": {},
   "outputs": [
    {
     "name": "stdout",
     "output_type": "stream",
     "text": [
      "z-score: 2.1908902300206643\n"
     ]
    }
   ],
   "source": [
    "# Need to take square roots:\n",
    "from math import sqrt\n",
    "\n",
    "# You'll also need to generate random numbers:\n",
    "from random import random\n",
    "\n",
    "def zScore(mu, var, observed, N):\n",
    "    # Compute the z-score of an observation given \n",
    "    # the number of trials (N) of IID random variables\n",
    "    # all having mean mu and variance var\n",
    "    return (observed - mu) / sqrt(var / N)\n",
    "\n",
    "# Example calculation from Thursday's class with\n",
    "# the exponential distribution:\n",
    "print(f'z-score: {zScore(10, 100, 14, 30)}')"
   ]
  },
  {
   "cell_type": "code",
   "execution_count": null,
   "id": "07348f7b",
   "metadata": {},
   "outputs": [],
   "source": [
    "#My answers below...\n",
    "# Q1-3, 4 is at the end"
   ]
  },
  {
   "cell_type": "code",
   "execution_count": 31,
   "id": "d0c3251a",
   "metadata": {},
   "outputs": [
    {
     "name": "stdout",
     "output_type": "stream",
     "text": [
      "Probability N=30,IID Exp(1/10) random variables >= 14: 1.0\n"
     ]
    }
   ],
   "source": [
    "\n",
    "from random import expovariate\n",
    "#expovariate random var of expo inverse 1/lamb\n",
    "N = 30\n",
    "rate = 10\n",
    "bound = 1/14\n",
    "trials = 100000\n",
    "\n",
    "count = 0\n",
    "for _ in range(trials):\n",
    "    sample_sum = sum(expovariate(rate) for _ in range(N))\n",
    "    if sample_sum >= bound:\n",
    "        count += 1\n",
    "\n",
    "probability = count / trials\n",
    "print(f\"Probability N={N},IID Exp(1/10) random variables >= 14: {probability}\")"
   ]
  },
  {
   "cell_type": "code",
   "execution_count": 63,
   "id": "ca98c62c",
   "metadata": {},
   "outputs": [
    {
     "name": "stdout",
     "output_type": "stream",
     "text": [
      "Probability (CLT Estimate): 0.014229868458155326\n"
     ]
    }
   ],
   "source": [
    "from math import sqrt\n",
    "\n",
    "# Define parameters\n",
    "mu = 10  # Mean of Exp(1/10)\n",
    "var = 100  # Variance of Exp(1/10)\n",
    "observed = 14\n",
    "N = 30\n",
    "\n",
    "# Calculate z-score\n",
    "z_score = (observed - mu) / sqrt(var / N)\n",
    "\n",
    "from scipy.stats import norm\n",
    "probability = 1 - norm.cdf(z_score)\n",
    "\n",
    "print(f\"Probability (CLT Estimate): {probability}\")\n"
   ]
  },
  {
   "cell_type": "code",
   "execution_count": 81,
   "id": "547d04af",
   "metadata": {},
   "outputs": [
    {
     "name": "stdout",
     "output_type": "stream",
     "text": [
      "An estimate for P(Xbar >=  10.2 ) is  0.3199\n"
     ]
    }
   ],
   "source": [
    "from math import log\n",
    "from random import random\n",
    "\n",
    "def Exp(lamb):\n",
    "    u = random()\n",
    "    return -log(u)/lamb\n",
    "\n",
    "lamb = 1/10\n",
    "def generate_estimate(n,k,num_samples):\n",
    "    # generate samples of Xbar\n",
    "    samples = []\n",
    "    for _ in range(num_samples):\n",
    "        X = sum([Exp(lamb) for i in range(n)])\n",
    "        samples.append(X/n) \n",
    "    # estimate the probability P(Xbar >= 14)\n",
    "    count = 0\n",
    "    for Xbar in samples: \n",
    "        if Xbar >= k:\n",
    "            count += 1\n",
    "    print(\"An estimate for P(Xbar >= \",k,\") is \",count/num_samples)\n",
    "generate_estimate(500,10.2,10000)"
   ]
  },
  {
   "cell_type": "code",
   "execution_count": 89,
   "id": "da142c77",
   "metadata": {},
   "outputs": [
    {
     "name": "stdout",
     "output_type": "stream",
     "text": [
      "Verification for 30 random variables:\n",
      "Probability (CLT Estimate): 0.014229868458155326\n",
      "Expected Probability (around 0.022): 0.022\n",
      "\n",
      "Simulation Results for 100 random variables:\n",
      "Estimated Probability (9 <= X_bar <= 11): 0.6838\n",
      "CLT Estimate (9 <= X_bar <= 11): 0.6826894921370859\n"
     ]
    }
   ],
   "source": [
    "import random\n",
    "import math\n",
    "from scipy.stats import norm\n",
    "\n",
    "# Function to generate a sample of the sum of N IID Exp(1/10) random variables\n",
    "def generate_sample_exp(N):\n",
    "    return sum([random.expovariate(1/10) for _ in range(N)])\n",
    "\n",
    "# Function to estimate the probability P(9 <= X_bar <= 11)\n",
    "def estimate_probability(samples, lower_bound, upper_bound):\n",
    "    count = sum(1 for sample in samples if lower_bound <= sample <= upper_bound)\n",
    "    return count / len(samples)\n",
    "\n",
    "# Define parameters\n",
    "num_samples = 10000  # Number of samples to generate\n",
    "\n",
    "# Verify probability for 30 IID Exp(1/10) random variables\n",
    "mu = 10  # Mean of Exp(1/10)\n",
    "var = 100  # Variance of Exp(1/10)\n",
    "observed_30 = 14\n",
    "N_30 = 30\n",
    "\n",
    "# Calculate z-score for 30 variables\n",
    "z_score_30 = (observed_30 - mu) / math.sqrt(var / N_30)\n",
    "\n",
    "# Probability calculation using z-score for 30 variables\n",
    "probability_30 = 1 - norm.cdf(z_score_30)\n",
    "\n",
    "print(\"Verification for 30 random variables:\")\n",
    "print(f\"Probability (CLT Estimate): {probability_30}\")\n",
    "print(f\"Expected Probability (around 0.022): 0.022\\n\")\n",
    "\n",
    "# Simulate for 100 IID Exp(1/10) random variables\n",
    "N_100 = 100\n",
    "lower_bound = 9\n",
    "upper_bound = 11\n",
    "\n",
    "samples_100 = [generate_sample_exp(N_100) / N_100 for _ in range(num_samples)]\n",
    "estimated_probability_100 = estimate_probability(samples_100, lower_bound, upper_bound)\n",
    "\n",
    "# Calculate the CLT parameters for 100 variables\n",
    "clt_mu_100 = mu\n",
    "clt_sigma_100 = math.sqrt(var / N_100)\n",
    "\n",
    "# Perform CLT estimate for 100 variables\n",
    "z_a_100 = (lower_bound - clt_mu_100) / clt_sigma_100\n",
    "z_b_100 = (upper_bound - clt_mu_100) / clt_sigma_100\n",
    "clt_probability_100 = norm.cdf(z_b_100) - norm.cdf(z_a_100)\n",
    "\n",
    "print(\"Simulation Results for 100 random variables:\")\n",
    "print(f\"Estimated Probability (9 <= X_bar <= 11): {estimated_probability_100}\")\n",
    "print(f\"CLT Estimate (9 <= X_bar <= 11): {clt_probability_100}\")\n"
   ]
  },
  {
   "cell_type": "code",
   "execution_count": 67,
   "id": "c147f73c",
   "metadata": {},
   "outputs": [
    {
     "name": "stdout",
     "output_type": "stream",
     "text": [
      "0.32736042300928914\n",
      "0.014229868458155326\n",
      "0.15865525393145707\n",
      "0.8413447460685429\n"
     ]
    }
   ],
   "source": [
    "from scipy import stats\n",
    "from math import sqrt\n",
    "from random import random\n",
    "\n",
    "lamb = 1/10\n",
    "mu = 1/lamb\n",
    "var = 1/lamb**2\n",
    "n=500\n",
    "def zScore(mu, var, observed, N):\n",
    "    return (observed - mu) / sqrt(var / N)\n",
    "\n",
    "z = zScore(mu,var,10.2,n)\n",
    "print(1-stats.norm.cdf(z))\n",
    "\n",
    "z = zScore(10, 100, 14, 30)\n",
    "print(1-stats.norm.cdf(z))\n",
    "\n",
    "z = zScore(10, 100, 11, 100)\n",
    "from scipy import stats\n",
    "print(1-stats.norm.cdf(z))\n",
    "\n",
    "z = zScore(10, 100, 9, 100)\n",
    "from scipy import stats\n",
    "print(1-stats.norm.cdf(z))\n"
   ]
  },
  {
   "cell_type": "code",
   "execution_count": 82,
   "id": "1059c210",
   "metadata": {},
   "outputs": [
    {
     "name": "stdout",
     "output_type": "stream",
     "text": [
      "An estimate for P(Xbar >=  1 ) is  1.0\n",
      "An estimate for P(Xbar >=  2 ) is  0.9999\n",
      "An estimate for P(Xbar >=  5 ) is  0.9673\n"
     ]
    }
   ],
   "source": [
    "from math import log\n",
    "from random import random\n",
    "\n",
    "def Exp(lamb):\n",
    "    u = random()\n",
    "    return -log(u)/lamb\n",
    "\n",
    "lamb = 1/10\n",
    "def generate_estimate(n,k,num_samples):\n",
    "    # generate samples of Xbar\n",
    "    samples = []\n",
    "    for _ in range(num_samples):\n",
    "        X = sum([Exp(lamb) for i in range(n)])\n",
    "        samples.append(X/n) \n",
    "    # estimate the probability P(Xbar >= 14)\n",
    "    count = 0\n",
    "    for Xbar in samples: \n",
    "        if Xbar >= k:\n",
    "            count += 1\n",
    "    print(\"An estimate for P(Xbar >= \",k,\") is \",count/num_samples)\n",
    "generate_estimate(10,1,10000)\n",
    "generate_estimate(10,2,10000)\n",
    "generate_estimate(10,5,10000)"
   ]
  },
  {
   "cell_type": "code",
   "execution_count": 83,
   "id": "a8be17f0",
   "metadata": {},
   "outputs": [
    {
     "name": "stdout",
     "output_type": "stream",
     "text": [
      "0.2919412103851825\n",
      "0.13666083914614902\n",
      "0.0030849496602720627\n"
     ]
    }
   ],
   "source": [
    "z = zScore(0, 1/3, 1/10, 10)\n",
    "print(1-stats.norm.cdf(z))\n",
    "z = zScore(0, 1/3, 2/10, 10)\n",
    "print(1-stats.norm.cdf(z))\n",
    "z = zScore(0, 1/3, 5/10, 10)\n",
    "print(1-stats.norm.cdf(z))"
   ]
  },
  {
   "cell_type": "code",
   "execution_count": 84,
   "id": "76058f59",
   "metadata": {},
   "outputs": [
    {
     "name": "stdout",
     "output_type": "stream",
     "text": [
      "An estimate for P(Xbar >=  1 ) is  1.0\n",
      "An estimate for P(Xbar >=  2 ) is  1.0\n",
      "An estimate for P(Xbar >=  5 ) is  0.9963\n",
      "0.34926767915166934\n",
      "0.26354462843276905\n",
      "0.056923149003329065\n"
     ]
    }
   ],
   "source": [
    "generate_estimate(20,1,10000)\n",
    "generate_estimate(20,2,10000)\n",
    "generate_estimate(20,5,10000)\n",
    "z1 = zScore(0, 1/3, 1/20, 20)\n",
    "print(1-stats.norm.cdf(z1))\n",
    "print(1-stats.norm.cdf(z2))\n",
    "z2 = zScore(0, 1/3, 2/20, 20)\n",
    "print(1-stats.norm.cdf(z5))\n",
    "z5 = zScore(0, 1/3, 5/20, 20)"
   ]
  },
  {
   "cell_type": "code",
   "execution_count": 80,
   "id": "5acda4ca",
   "metadata": {},
   "outputs": [
    {
     "name": "stdout",
     "output_type": "stream",
     "text": [
      "A CLT approximation is  0.3759148170229246\n",
      "An estimate for P(Xbar >=  1 ) is  1.0\n",
      "A CLT approximation is  0.26354462843276905\n",
      "An estimate for P(Xbar >=  2 ) is  1.0\n",
      "A CLT approximation is  0.056923149003329065\n",
      "An estimate for P(Xbar >=  5 ) is  0.9998\n"
     ]
    }
   ],
   "source": [
    "z1 = zScore(0, 1/3, 1/30, 30)\n",
    "print(\"A CLT approximation is \", 1-stats.norm.cdf(z1))\n",
    "generate_estimate(30,1,10000)\n",
    "z2 = zScore(0, 1/3, 2/30, 30)\n",
    "print(\"A CLT approximation is \", 1-stats.norm.cdf(z2))\n",
    "generate_estimate(30,2,10000)\n",
    "z5 = zScore(0, 1/3, 5/30, 30)\n",
    "print(\"A CLT approximation is \", 1-stats.norm.cdf(z5))\n",
    "generate_estimate(30,5,10000)"
   ]
  },
  {
   "cell_type": "code",
   "execution_count": 77,
   "id": "39451e32",
   "metadata": {},
   "outputs": [
    {
     "name": "stdout",
     "output_type": "stream",
     "text": [
      "A CLT approximation is  0.4312451150679608\n",
      "An estimate for P(Xbar >=  1 ) is  1.0\n",
      "A CLT approximation is  0.36451724476940206\n",
      "An estimate for P(Xbar >=  2 ) is  1.0\n",
      "A CLT approximation is  0.19323811538561642\n",
      "An estimate for P(Xbar >=  5 ) is  1.0\n"
     ]
    }
   ],
   "source": [
    "z1 = zScore(0, 1/3, 1/100, 100)\n",
    "print(\"A CLT approximation is \", 1-stats.norm.cdf(z1))\n",
    "generate_estimate(100,1,10000)\n",
    "z2 = zScore(0, 1/3, 2/100, 100)\n",
    "print(\"A CLT approximation is \", 1-stats.norm.cdf(z2))\n",
    "generate_estimate(100,2,10000)\n",
    "z5 = zScore(0, 1/3, 5/100, 100)\n",
    "print(\"A CLT approximation is \", 1-stats.norm.cdf(z5))\n",
    "generate_estimate(100,5,10000)"
   ]
  },
  {
   "cell_type": "code",
   "execution_count": 78,
   "id": "93cdc38d",
   "metadata": {},
   "outputs": [
    {
     "name": "stdout",
     "output_type": "stream",
     "text": [
      "A CLT approximation is  0.46912893798241806\n",
      "An estimate for P(Xbar >=  1 ) is  1.0\n",
      "A CLT approximation is  0.4384424557266894\n",
      "An estimate for P(Xbar >=  2 ) is  1.0\n",
      "A CLT approximation is  0.34926767915166934\n",
      "An estimate for P(Xbar >=  5 ) is  1.0\n"
     ]
    }
   ],
   "source": [
    "z1 = zScore(0, 1/3, 1/500, 500)\n",
    "print(\"A CLT approximation is \", 1-stats.norm.cdf(z1))\n",
    "generate_estimate(500,1,10000)\n",
    "z2 = zScore(0, 1/3, 2/500, 500)\n",
    "print(\"A CLT approximation is \", 1-stats.norm.cdf(z2))\n",
    "generate_estimate(500,2,10000)\n",
    "z5 = zScore(0, 1/3, 5/500, 500)\n",
    "print(\"A CLT approximation is \", 1-stats.norm.cdf(z5))\n",
    "generate_estimate(500,5,10000)"
   ]
  },
  {
   "cell_type": "code",
   "execution_count": 7,
   "id": "3ae778e3",
   "metadata": {},
   "outputs": [
    {
     "name": "stdout",
     "output_type": "stream",
     "text": [
      "Probability N=100, Exp(1/10) avg from 9 to 11: 0.68333\n"
     ]
    }
   ],
   "source": [
    "from random import expovariate\n",
    "#expovariate random var of expo. inverse\n",
    "N = 100\n",
    "# Calculate the mean and variance using CLT for the average\n",
    "mu = 10  # Expected mean for Exp(1/10)\n",
    "var = (100/30)  # Expected variance for the sum of 100 Exp(1/10) variables\n",
    "\n",
    "count = 0\n",
    "for _ in range(100000):\n",
    "    average = sum(expovariate(1/10) for _ in range(N)) / N\n",
    "    if 9 <= average <= 11:\n",
    "        count += 1\n",
    "\n",
    "probability = count / 100000\n",
    "print(f\"Probability N={N}, Exp(1/10) avg from 9 to 11: {probability}\")"
   ]
  },
  {
   "cell_type": "code",
   "execution_count": 36,
   "id": "7c58ee1e",
   "metadata": {},
   "outputs": [
    {
     "name": "stdout",
     "output_type": "stream",
     "text": [
      "Simulation Results for n=100:\n",
      "Estimated Probability: 0.6941\n",
      "CLT Prediction: 0.0\n",
      "\n",
      "Simulation Results for n=30:\n",
      "Estimated Probability: 0.4113\n",
      "CLT Prediction: 0.0\n"
     ]
    }
   ],
   "source": [
    "from math import log\n",
    "from random import random\n",
    "\n",
    "def Exp(lamb):\n",
    "    u = random()\n",
    "    return -log(u) / lamb\n",
    "\n",
    "lamb = 1/10\n",
    "\n",
    "def generate_estimate(n, k1, k2, num_samples):\n",
    "    # Generate samples of Xbar\n",
    "    samples = []\n",
    "    for _ in range(num_samples):\n",
    "        X = sum([Exp(lamb) for i in range(n)])\n",
    "        samples.append(X / n) \n",
    "\n",
    "    # Estimate the probability P(k1 <= Xbar <= k2)\n",
    "    count = 0\n",
    "    for Xbar in samples: \n",
    "        if k1 <= Xbar <= k2:\n",
    "            count += 1\n",
    "    estimated_probability = count / num_samples\n",
    "\n",
    "    return estimated_probability\n",
    "\n",
    "def central_limit_theorem_mean(mu, sigma, n):\n",
    "    # Calculate the CLT prediction for the mean\n",
    "    clt_mu = mu\n",
    "    clt_sigma = sigma / (n**0.5)\n",
    "    return clt_mu, clt_sigma\n",
    "\n",
    "def central_limit_theorem_probability(clt_mu, clt_sigma, a, b):\n",
    "    # Calculate the CLT prediction for P(a <= Xbar <= b)\n",
    "    from scipy.stats import norm\n",
    "    z_a = (a - clt_mu) / clt_sigma\n",
    "    z_b = (b - clt_mu) / clt_sigma\n",
    "    clt_probability = norm.cdf(z_b) - norm.cdf(z_a)\n",
    "    return clt_probability\n",
    "\n",
    "# Parameters\n",
    "num_samples = 10000\n",
    "n1 = 100\n",
    "n2 = 30\n",
    "k1 = 9\n",
    "k2 = 11\n",
    "\n",
    "# Simulate and compare for n=100\n",
    "estimated_probability_n100 = generate_estimate(n1, k1, k2, num_samples)\n",
    "clt_mu_n100, clt_sigma_n100 = central_limit_theorem_mean(lamb, lamb, n1)\n",
    "clt_probability_n100 = central_limit_theorem_probability(clt_mu_n100, clt_sigma_n100, k1, k2)\n",
    "\n",
    "# Simulate and compare for n=30\n",
    "estimated_probability_n30 = generate_estimate(n2, k1, k2, num_samples)\n",
    "clt_mu_n30, clt_sigma_n30 = central_limit_theorem_mean(lamb, lamb, n2)\n",
    "clt_probability_n30 = central_limit_theorem_probability(clt_mu_n30, clt_sigma_n30, k1, k2)\n",
    "\n",
    "# Print results\n",
    "print(\"Simulation Results for n=100:\")\n",
    "print(\"Estimated Probability:\", estimated_probability_n100)\n",
    "print(\"CLT Prediction:\", clt_probability_n100)\n",
    "\n",
    "print(\"\\nSimulation Results for n=30:\")\n",
    "print(\"Estimated Probability:\", estimated_probability_n30)\n",
    "print(\"CLT Prediction:\", clt_probability_n30)\n"
   ]
  },
  {
   "cell_type": "code",
   "execution_count": 62,
   "id": "bce94def",
   "metadata": {},
   "outputs": [
    {
     "name": "stdout",
     "output_type": "stream",
     "text": [
      "An estimate for P(Xbar >= 9 but <= 11) is  0.9757\n"
     ]
    }
   ],
   "source": [
    "# Q2\n",
    "from math import log\n",
    "from random import random\n",
    "\n",
    "def Exp(lamb):\n",
    "    u = random()\n",
    "    return -log(u)/lamb\n",
    "\n",
    "lamb = 1/10\n",
    "def generate_estimate(n,k,num_samples):\n",
    "    # generate samples of Xbar\n",
    "    samples = []\n",
    "    for _ in range(num_samples):\n",
    "        X = sum([Exp(lamb) for i in range(n)])\n",
    "        samples.append(X/n) \n",
    "    # estimate the probability P(Xbar >= 14)\n",
    "    count = 0\n",
    "    for Xbar in samples: \n",
    "        if 9 <= Xbar <= 11:\n",
    "            count += 1\n",
    "print(\"An estimate for P(Xbar >= 9 but <= 11) is \",count/num_samples)\n",
    "generate_estimate(500,14,10000)"
   ]
  },
  {
   "cell_type": "code",
   "execution_count": 58,
   "id": "5475698e",
   "metadata": {},
   "outputs": [
    {
     "name": "stdout",
     "output_type": "stream",
     "text": [
      "0.9999961278917845\n"
     ]
    }
   ],
   "source": [
    "\n",
    "from scipy import stats\n",
    "from math import sqrt\n",
    "from random import random\n",
    "\n",
    "lamb = 1/10\n",
    "mu = 1/lamb\n",
    "var = 1/lamb**2\n",
    "n=500\n",
    "def zScore(mu, var, observed, N):\n",
    "    return (observed - mu) / sqrt(var / N)\n",
    "z = zScore(mu,var,9,n)- zScore(mu,var,11,n)\n",
    "print(1-stats.norm.cdf(z))"
   ]
  },
  {
   "cell_type": "code",
   "execution_count": 23,
   "id": "f0750a44",
   "metadata": {},
   "outputs": [
    {
     "name": "stdout",
     "output_type": "stream",
     "text": [
      "Probability sum is greater than or equal to 1: 0.29596\n",
      "Probability sum is greater than or equal to 2: 0.13747\n",
      "Probability sum is greater than or equal to 5: 0.00241\n"
     ]
    }
   ],
   "source": [
    "\n",
    "from random import uniform\n",
    "\n",
    "N = 10\n",
    "thresholds = [1, 2, 5]\n",
    "trials = 100000  # You can adjust this number as needed\n",
    "\n",
    "for bound in bounds:\n",
    "    count = 0\n",
    "    for _ in range(trials):\n",
    "        sample_sum = sum(uniform(-1, 1) for _ in range(N))\n",
    "        if sample_sum >= bound:\n",
    "            count += 1\n",
    "\n",
    "    probability = count / trials\n",
    "    print(f\"Probability sum is greater than or equal to {bound}: {probability}\")"
   ]
  },
  {
   "cell_type": "code",
   "execution_count": 86,
   "id": "0f99c868",
   "metadata": {},
   "outputs": [
    {
     "name": "stdout",
     "output_type": "stream",
     "text": [
      "Simulation Results:\n",
      "Estimated Probability (x >= 1): 0.2837\n",
      "Estimated Probability (x >= 2): 0.1438\n",
      "Estimated Probability (x >= 5): 0.0016\n",
      "\n",
      "Central Limit Theorem (CLT) Estimates:\n",
      "CLT Estimate (x >= 1): 0.2919412103851825\n",
      "CLT Estimate (x >= 2): 0.13666083914614902\n",
      "CLT Estimate (x >= 5): 0.0030849496602720627\n"
     ]
    }
   ],
   "source": [
    "# Q2\n",
    "import random\n",
    "import math\n",
    "from scipy.stats import norm\n",
    "\n",
    "# Function to generate a sample of the sum of 10 IID Unif(-1, 1) random variables\n",
    "def generate_sample():\n",
    "    return sum([2 * random.random() - 1 for _ in range(10)])\n",
    "\n",
    "# Function to estimate the probability P(X_sum >= x)\n",
    "def estimate_probability(samples, x):\n",
    "    count = sum(1 for sample in samples if sample >= x)\n",
    "    return count / len(samples)\n",
    "\n",
    "# Parameters\n",
    "num_samples = 10000  # Number of samples to generate\n",
    "x_values = [1, 2, 5]  # Values of x for the probability estimation\n",
    "\n",
    "# Perform simulation and CLT comparison\n",
    "print(\"Simulation Results:\")\n",
    "for x in x_values:\n",
    "    samples = [generate_sample() for _ in range(num_samples)]\n",
    "    estimated_probability = estimate_probability(samples, x)\n",
    "\n",
    "    print(f\"Estimated Probability (x >= {x}): {estimated_probability}\")\n",
    "\n",
    "# Calculate the CLT parameters\n",
    "N = 10\n",
    "mu = 0  # Mean of Unif(-1, 1)\n",
    "var = 1/3  # Variance of Unif(-1, 1)\n",
    "clt_mu = N * mu\n",
    "clt_sigma = math.sqrt(N * var)\n",
    "\n",
    "# Perform CLT estimates\n",
    "print(\"\\nCentral Limit Theorem (CLT) Estimates:\")\n",
    "for x in x_values:\n",
    "    z = (x - clt_mu) / clt_sigma\n",
    "    clt_probability = 1 - norm.cdf(z)\n",
    "    print(f\"CLT Estimate (x >= {x}): {clt_probability}\")\n"
   ]
  },
  {
   "cell_type": "code",
   "execution_count": 88,
   "id": "dd714ae7",
   "metadata": {},
   "outputs": [
    {
     "name": "stdout",
     "output_type": "stream",
     "text": [
      "Probability (CLT Estimate): 0.014229868458155326\n"
     ]
    }
   ],
   "source": [
    "import math\n",
    "from scipy.stats import norm\n",
    "\n",
    "# Define parameters\n",
    "mu = 10  # Mean of Exp(1/10)\n",
    "var = 100  # Variance of Exp(1/10)\n",
    "observed = 14\n",
    "N = 30\n",
    "\n",
    "# Calculate z-score\n",
    "z_score = (observed - mu) / math.sqrt(var / N)\n",
    "\n",
    "# Probability calculation using z-score\n",
    "probability = 1 - norm.cdf(z_score)\n",
    "\n",
    "print(f\"Probability (CLT Estimate): {probability}\")\n"
   ]
  },
  {
   "cell_type": "code",
   "execution_count": 87,
   "id": "728c706c",
   "metadata": {},
   "outputs": [
    {
     "name": "stdout",
     "output_type": "stream",
     "text": [
      "Simulation Results:\n",
      "Estimated Probability (9 <= X_bar <= 11): 0.6851\n",
      "\n",
      "Central Limit Theorem (CLT) Estimate:\n",
      "CLT Estimate (9 <= X_bar <= 11): 0.0\n"
     ]
    }
   ],
   "source": [
    "# Q2\n",
    "import random\n",
    "import math\n",
    "from scipy.stats import norm\n",
    "\n",
    "# Function to generate a sample of the sum of N IID Exp(1/10) random variables\n",
    "def generate_sample(N):\n",
    "    return sum([random.expovariate(1/10) for _ in range(N)]) / N\n",
    "\n",
    "# Function to estimate the probability P(9 <= X_bar <= 11)\n",
    "def estimate_probability(samples, lower_bound, upper_bound):\n",
    "    count = sum(1 for sample in samples if lower_bound <= sample <= upper_bound)\n",
    "    return count / len(samples)\n",
    "\n",
    "# Parameters\n",
    "num_samples = 10000  # Number of samples to generate\n",
    "N = 100  # Number of random variables to sum and calculate the average\n",
    "lower_bound = 9\n",
    "upper_bound = 11\n",
    "\n",
    "# Perform simulation and CLT comparison\n",
    "print(\"Simulation Results:\")\n",
    "samples = [generate_sample(N) for _ in range(num_samples)]\n",
    "estimated_probability = estimate_probability(samples, lower_bound, upper_bound)\n",
    "\n",
    "print(f\"Estimated Probability ({lower_bound} <= X_bar <= {upper_bound}): {estimated_probability}\")\n",
    "\n",
    "# Calculate the CLT parameters\n",
    "mu = 10  # Mean of Exp(1/10)\n",
    "var = 100  # Variance of Exp(1/10)\n",
    "clt_mu = N * mu\n",
    "clt_sigma = math.sqrt(var / N)\n",
    "\n",
    "# Perform CLT estimate\n",
    "z_a = (lower_bound - clt_mu) / clt_sigma\n",
    "z_b = (upper_bound - clt_mu) / clt_sigma\n",
    "clt_probability = norm.cdf(z_b) - norm.cdf(z_a)\n",
    "\n",
    "print(\"\\nCentral Limit Theorem (CLT) Estimate:\")\n",
    "print(f\"CLT Estimate ({lower_bound} <= X_bar <= {upper_bound}): {clt_probability}\")\n"
   ]
  },
  {
   "cell_type": "code",
   "execution_count": 85,
   "id": "ea6d63a6",
   "metadata": {},
   "outputs": [
    {
     "name": "stdout",
     "output_type": "stream",
     "text": [
      "Simulation Results for N=20:\n",
      "Estimated Probability (x >= 1): 0.3543\n",
      "CLT Estimate (x >= 1): 0.34926767915166934\n",
      "Estimated Probability (x >= 2): 0.2173\n",
      "CLT Estimate (x >= 2): 0.21928901304049986\n",
      "Estimated Probability (x >= 5): 0.0284\n",
      "CLT Estimate (x >= 5): 0.026403755708056753\n",
      "\n",
      "Simulation Results for N=30:\n",
      "Estimated Probability (x >= 1): 0.3795\n",
      "CLT Estimate (x >= 1): 0.3759148170229246\n",
      "Estimated Probability (x >= 2): 0.2599\n",
      "CLT Estimate (x >= 2): 0.26354462843276905\n",
      "Estimated Probability (x >= 5): 0.06\n",
      "CLT Estimate (x >= 5): 0.056923149003329065\n",
      "\n",
      "Simulation Results for N=100:\n",
      "Estimated Probability (x >= 1): 0.4274\n",
      "CLT Estimate (x >= 1): 0.4312451150679608\n",
      "Estimated Probability (x >= 2): 0.3702\n",
      "CLT Estimate (x >= 2): 0.36451724476940206\n",
      "Estimated Probability (x >= 5): 0.1854\n",
      "CLT Estimate (x >= 5): 0.19323811538561642\n",
      "\n",
      "Simulation Results for N=500:\n",
      "Estimated Probability (x >= 1): 0.4655\n",
      "CLT Estimate (x >= 1): 0.46912893798241806\n",
      "Estimated Probability (x >= 2): 0.4383\n",
      "CLT Estimate (x >= 2): 0.4384424557266894\n",
      "Estimated Probability (x >= 5): 0.3588\n",
      "CLT Estimate (x >= 5): 0.34926767915166934\n",
      "\n"
     ]
    }
   ],
   "source": [
    "# Q4\n",
    "import random\n",
    "import math\n",
    "from scipy.stats import norm\n",
    "\n",
    "# Function to generate a sample of the sum of N IID Unif(-1, 1) random variables\n",
    "def generate_sample(N):\n",
    "    return sum([2 * random.random() - 1 for _ in range(N)])\n",
    "\n",
    "# Function to estimate the probability P(X_sum >= x)\n",
    "def estimate_probability(samples, x):\n",
    "    count = sum(1 for sample in samples if sample >= x)\n",
    "    return count / len(samples)\n",
    "\n",
    "# Parameters\n",
    "num_samples = 10000  # Number of samples to generate\n",
    "N_values = [20, 30, 100, 500]  # Different values of N\n",
    "x_values = [1, 2, 5]  # Values of x for the probability estimation\n",
    "\n",
    "# Perform simulation and CLT comparison for different N values\n",
    "for N in N_values:\n",
    "    print(f\"Simulation Results for N={N}:\")\n",
    "    for x in x_values:\n",
    "        samples = [generate_sample(N) for _ in range(num_samples)]\n",
    "        estimated_probability = estimate_probability(samples, x)\n",
    "\n",
    "        # Calculate the CLT parameters\n",
    "        mu = 0  # Mean of Unif(-1, 1)\n",
    "        var = 1/3  # Variance of Unif(-1, 1)\n",
    "        clt_mu = N * mu\n",
    "        clt_sigma = math.sqrt(N * var)\n",
    "\n",
    "        # Calculate CLT prediction\n",
    "        z = (x - clt_mu) / clt_sigma\n",
    "        clt_probability = 1 - norm.cdf(z)\n",
    "\n",
    "        print(f\"Estimated Probability (x >= {x}): {estimated_probability}\")\n",
    "        print(f\"CLT Estimate (x >= {x}): {clt_probability}\")\n",
    "    \n",
    "    print()\n"
   ]
  },
  {
   "cell_type": "code",
   "execution_count": 15,
   "id": "9515f7b2",
   "metadata": {},
   "outputs": [
    {
     "name": "stdout",
     "output_type": "stream",
     "text": [
      "Z-Score: 4.5175395145262565\n",
      "Probability(P'z'): 0.9999968718822163\n",
      "Probability(1-P'z'): 3.1281177836905982e-06\n",
      "Using pmf: The exact probability that the message is corrupted is approximately 2.308273706694947e-05\n",
      "Using cdf: The exact probability that the message is corrupted is approximately 4.3398758947432725e-05\n"
     ]
    }
   ],
   "source": [
    "# weekly 7 number 2b,2c)\n",
    "from scipy import stats\n",
    "import scipy.stats as stats\n",
    "from scipy.stats import norm\n",
    "from scipy.stats import binom\n",
    "# 2b)\n",
    "# Define the data point, mean, and standard deviation\n",
    "x = 40\n",
    "mean = 20\n",
    "std_dev = (19.6)**0.5  # Square root of the variance\n",
    "# Calculate the z-score\n",
    "z_score = (x - mean) / std_dev\n",
    "print(\"Z-Score:\", z_score)\n",
    "# prob using CDF\n",
    "probability = norm.cdf(z_score)\n",
    "probability1 = 1 - (norm.cdf(z_score))\n",
    "print(\"Probability(P'z'):\", probability)\n",
    "print(\"Probability(1-P'z'):\", probability1)\n",
    "\n",
    "# 2c)\n",
    "# Define the parameters of the binomial distribution\n",
    "n = 1000  # Number of trials\n",
    "p = 0.02  # Probability of success\n",
    "k = 40  # Number of successes\n",
    "probability = binom.pmf(k, n, p)\n",
    "print(f\"Using pmf: The exact probability that the message is corrupted is approximately {probability}\")\n",
    "\n",
    "# Parameters\n",
    "n = 1000  # Number of trials\n",
    "p = 0.02  # Probability of success (error rate)\n",
    "k = 40  # At least 40 wrongly transmitted bits\n",
    "\n",
    "# Calculate the exact probability using the binomial distribution\n",
    "probability = 1 - binom.cdf(k - 1, n, p)\n",
    "\n",
    "print(f\"Using cdf: The exact probability that the message is corrupted is approximately {probability}\")\n"
   ]
  },
  {
   "cell_type": "code",
   "execution_count": null,
   "id": "6bba4ba2",
   "metadata": {},
   "outputs": [],
   "source": []
  }
 ],
 "metadata": {
  "kernelspec": {
   "display_name": "Python 3 (ipykernel)",
   "language": "python",
   "name": "python3"
  },
  "language_info": {
   "codemirror_mode": {
    "name": "ipython",
    "version": 3
   },
   "file_extension": ".py",
   "mimetype": "text/x-python",
   "name": "python",
   "nbconvert_exporter": "python",
   "pygments_lexer": "ipython3",
   "version": "3.7.8"
  }
 },
 "nbformat": 4,
 "nbformat_minor": 5
}
